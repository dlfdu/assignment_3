{
 "cells": [
  {
   "cell_type": "code",
   "execution_count": null,
   "id": "a2319496",
   "metadata": {},
   "outputs": [],
   "source": [
    "try:\n",
    "    a, b = map(int, input(\"자연수 두 개를 입력해주세요.:\").split())"
   ]
  },
  {
   "cell_type": "markdown",
   "id": "93991117",
   "metadata": {},
   "source": [
    "try문 안에 시행해야 할 문장을 입력함\n",
    "- map 함수를 이용해 두 개의 자연수를 입력받아 각각을 변수 a와 b에 할당함\n",
    "- type(a) = type(b) = int"
   ]
  },
  {
   "cell_type": "code",
   "execution_count": null,
   "id": "3b7259ce",
   "metadata": {},
   "outputs": [],
   "source": [
    "except:\n",
    "    print(\"입력에 오류가 있습니다.\")"
   ]
  },
  {
   "cell_type": "markdown",
   "id": "376e3e04",
   "metadata": {},
   "source": [
    "예외적인 상황(ex. 문자열 입력)에서 실행할 문장을 입력함 : 입력오류"
   ]
  },
  {
   "cell_type": "code",
   "execution_count": null,
   "id": "d4fa7ad8",
   "metadata": {},
   "outputs": [],
   "source": [
    "else:\n",
    "    try:\n",
    "        c = a / b\n",
    "        print(f'{a} / {b} = {c}')"
   ]
  },
  {
   "cell_type": "markdown",
   "id": "935c4683",
   "metadata": {},
   "source": [
    "예외적인 경우를 제외한 상황에서 실행할 문장을 입력함\n",
    "- try문 안에 시행해야 할 문장을 입력함\n",
    "- a를 b로 나누는 계산을 실행하고 출력함"
   ]
  },
  {
   "cell_type": "code",
   "execution_count": null,
   "id": "7d34cadd",
   "metadata": {},
   "outputs": [],
   "source": [
    "    except:\n",
    "        print(\"계산에 오류가 있습니다.\")"
   ]
  },
  {
   "cell_type": "markdown",
   "id": "3ba86350",
   "metadata": {},
   "source": [
    "예외적인 상황(ex. 분모가 0)에서 실행할 문장을 입력함 : 계산오류"
   ]
  },
  {
   "cell_type": "code",
   "execution_count": null,
   "id": "3d1da1c1",
   "metadata": {},
   "outputs": [],
   "source": [
    "    else:\n",
    "        print(f'{a} / {b} = {c}')"
   ]
  },
  {
   "cell_type": "markdown",
   "id": "f9ecf91f",
   "metadata": {},
   "source": [
    "예외적인 경우를 제외한 상황에서 실행할 문장을 입력함\n",
    "- 계산결과 출력"
   ]
  },
  {
   "cell_type": "code",
   "execution_count": null,
   "id": "eb93e0ca",
   "metadata": {},
   "outputs": [],
   "source": [
    "    finally:\n",
    "        print(\"calculation completed\")"
   ]
  },
  {
   "cell_type": "markdown",
   "id": "113accdc",
   "metadata": {},
   "source": [
    "무조건 실행되는 문장을 작성함"
   ]
  }
 ],
 "metadata": {
  "kernelspec": {
   "display_name": "Python 3 (ipykernel)",
   "language": "python",
   "name": "python3"
  },
  "language_info": {
   "codemirror_mode": {
    "name": "ipython",
    "version": 3
   },
   "file_extension": ".py",
   "mimetype": "text/x-python",
   "name": "python",
   "nbconvert_exporter": "python",
   "pygments_lexer": "ipython3",
   "version": "3.11.7"
  }
 },
 "nbformat": 4,
 "nbformat_minor": 5
}
